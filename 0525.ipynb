{
  "nbformat": 4,
  "nbformat_minor": 0,
  "metadata": {
    "colab": {
      "name": "0525.ipynb",
      "provenance": [],
      "authorship_tag": "ABX9TyNI4R56gV+g69v0qHoJCCS0",
      "include_colab_link": true
    },
    "kernelspec": {
      "name": "python3",
      "display_name": "Python 3"
    },
    "language_info": {
      "name": "python"
    }
  },
  "cells": [
    {
      "cell_type": "markdown",
      "metadata": {
        "id": "view-in-github",
        "colab_type": "text"
      },
      "source": [
        "<a href=\"https://colab.research.google.com/github/Wang-Ching-Yu/introduction-to-computers/blob/main/0525.ipynb\" target=\"_parent\"><img src=\"https://colab.research.google.com/assets/colab-badge.svg\" alt=\"Open In Colab\"/></a>"
      ]
    },
    {
      "cell_type": "code",
      "execution_count": 1,
      "metadata": {
        "colab": {
          "base_uri": "https://localhost:8080/"
        },
        "id": "zBjazlcQmNNJ",
        "outputId": "d518978f-481c-4e6f-abcc-ad9e84985f10"
      },
      "outputs": [
        {
          "output_type": "stream",
          "name": "stdout",
          "text": [
            "test\n"
          ]
        }
      ],
      "source": [
        "print(\"test\")"
      ]
    },
    {
      "cell_type": "code",
      "source": [
        "sum = 0\n",
        "test = int(input(\"請輸入一個正整數：\"))\n",
        "for n in range(1,test+1):\n",
        "  sum = sum+n\n",
        "print(\"1到\",test,\"的整數和為\",sum)"
      ],
      "metadata": {
        "colab": {
          "base_uri": "https://localhost:8080/"
        },
        "id": "QyCq2xzFmQrq",
        "outputId": "2edc5c3a-6cf3-4809-db28-24d45a259cf8"
      },
      "execution_count": 2,
      "outputs": [
        {
          "output_type": "stream",
          "name": "stdout",
          "text": [
            "請輸入一個正整數：50\n",
            "1到 50 的整數和為 1275\n"
          ]
        }
      ]
    },
    {
      "cell_type": "code",
      "source": [
        "sum = 0\n",
        "test = int(input(\"請輸入一個正整數：\"))\n",
        "for m in range(1,test+1):\n",
        "  sum = sum+m\n",
        "  print(\"1到\",str(m)+\"的整數和為\",sum)"
      ],
      "metadata": {
        "colab": {
          "base_uri": "https://localhost:8080/"
        },
        "id": "znIM6YP1myhb",
        "outputId": "6c9a8dc5-3880-4563-ca2a-f3bd001759a5"
      },
      "execution_count": 3,
      "outputs": [
        {
          "output_type": "stream",
          "name": "stdout",
          "text": [
            "請輸入一個正整數：50\n",
            "1到 1的整數和為 1\n",
            "1到 2的整數和為 3\n",
            "1到 3的整數和為 6\n",
            "1到 4的整數和為 10\n",
            "1到 5的整數和為 15\n",
            "1到 6的整數和為 21\n",
            "1到 7的整數和為 28\n",
            "1到 8的整數和為 36\n",
            "1到 9的整數和為 45\n",
            "1到 10的整數和為 55\n",
            "1到 11的整數和為 66\n",
            "1到 12的整數和為 78\n",
            "1到 13的整數和為 91\n",
            "1到 14的整數和為 105\n",
            "1到 15的整數和為 120\n",
            "1到 16的整數和為 136\n",
            "1到 17的整數和為 153\n",
            "1到 18的整數和為 171\n",
            "1到 19的整數和為 190\n",
            "1到 20的整數和為 210\n",
            "1到 21的整數和為 231\n",
            "1到 22的整數和為 253\n",
            "1到 23的整數和為 276\n",
            "1到 24的整數和為 300\n",
            "1到 25的整數和為 325\n",
            "1到 26的整數和為 351\n",
            "1到 27的整數和為 378\n",
            "1到 28的整數和為 406\n",
            "1到 29的整數和為 435\n",
            "1到 30的整數和為 465\n",
            "1到 31的整數和為 496\n",
            "1到 32的整數和為 528\n",
            "1到 33的整數和為 561\n",
            "1到 34的整數和為 595\n",
            "1到 35的整數和為 630\n",
            "1到 36的整數和為 666\n",
            "1到 37的整數和為 703\n",
            "1到 38的整數和為 741\n",
            "1到 39的整數和為 780\n",
            "1到 40的整數和為 820\n",
            "1到 41的整數和為 861\n",
            "1到 42的整數和為 903\n",
            "1到 43的整數和為 946\n",
            "1到 44的整數和為 990\n",
            "1到 45的整數和為 1035\n",
            "1到 46的整數和為 1081\n",
            "1到 47的整數和為 1128\n",
            "1到 48的整數和為 1176\n",
            "1到 49的整數和為 1225\n",
            "1到 50的整數和為 1275\n"
          ]
        }
      ]
    },
    {
      "cell_type": "code",
      "source": [
        "for j in range(1,5):\n",
        "  print(j)\n",
        "  for i in range(1,3):\n",
        "    k = i*j\n",
        "    print(j,\"*\",i,\"=\",k)"
      ],
      "metadata": {
        "colab": {
          "base_uri": "https://localhost:8080/"
        },
        "id": "9L8Zhuo2nClb",
        "outputId": "5a939620-c287-46d2-d496-9a7611e2c612"
      },
      "execution_count": 4,
      "outputs": [
        {
          "output_type": "stream",
          "name": "stdout",
          "text": [
            "1\n",
            "1 * 1 = 1\n",
            "1 * 2 = 2\n",
            "2\n",
            "2 * 1 = 2\n",
            "2 * 2 = 4\n",
            "3\n",
            "3 * 1 = 3\n",
            "3 * 2 = 6\n",
            "4\n",
            "4 * 1 = 4\n",
            "4 * 2 = 8\n"
          ]
        }
      ]
    },
    {
      "cell_type": "code",
      "source": [
        "for p in range(1,6):\n",
        "  print(p)\n",
        "  for q in range(1,3):\n",
        "    h = p * q\n",
        "    print(p,\"*\",q,\"=\",h)"
      ],
      "metadata": {
        "colab": {
          "base_uri": "https://localhost:8080/"
        },
        "id": "rC8-Mkx3nY5T",
        "outputId": "bb601cbb-aa69-407f-a29f-e5030573d037"
      },
      "execution_count": 8,
      "outputs": [
        {
          "output_type": "stream",
          "name": "stdout",
          "text": [
            "1\n",
            "1 * 1 = 1\n",
            "1 * 2 = 2\n",
            "2\n",
            "2 * 1 = 2\n",
            "2 * 2 = 4\n",
            "3\n",
            "3 * 1 = 3\n",
            "3 * 2 = 6\n",
            "4\n",
            "4 * 1 = 4\n",
            "4 * 2 = 8\n",
            "5\n",
            "5 * 1 = 5\n",
            "5 * 2 = 10\n"
          ]
        }
      ]
    },
    {
      "cell_type": "code",
      "source": [
        "for i in range(1,5):\n",
        "  if(i==4):\n",
        "    break\n",
        "  print(i,end = \" \")"
      ],
      "metadata": {
        "colab": {
          "base_uri": "https://localhost:8080/"
        },
        "id": "8EF8sI7volMA",
        "outputId": "e79bda1e-2bbb-4c95-86f1-97774b40e17b"
      },
      "execution_count": 9,
      "outputs": [
        {
          "output_type": "stream",
          "name": "stdout",
          "text": [
            "1 2 3 "
          ]
        }
      ]
    },
    {
      "cell_type": "code",
      "source": [
        "count = 0\n",
        "for string in 'hello!':\n",
        "  count += 1\n",
        "  if string == 'o':\n",
        "    break\n",
        "  print(string)\n",
        "print(\"迴圈結束\")\n",
        "print(\"迴圈執行了 %d 次\" %count)"
      ],
      "metadata": {
        "colab": {
          "base_uri": "https://localhost:8080/"
        },
        "id": "pyRExPx4pbBs",
        "outputId": "392074d5-fa9f-4808-9248-a927df932a58"
      },
      "execution_count": 12,
      "outputs": [
        {
          "output_type": "stream",
          "name": "stdout",
          "text": [
            "h\n",
            "e\n",
            "l\n",
            "l\n",
            "迴圈結束\n",
            "迴圈執行了 5 次\n"
          ]
        }
      ]
    },
    {
      "cell_type": "code",
      "source": [
        "count = 0\n",
        "for string in '測試看看！':\n",
        "  count += 1\n",
        "  if string == '看':\n",
        "    break\n",
        "  print(string)\n",
        "print(\"迴圈結束\")\n",
        "print(\"迴圈執行了 %d 次\" %count)"
      ],
      "metadata": {
        "colab": {
          "base_uri": "https://localhost:8080/"
        },
        "id": "8BfRQi0Yqztf",
        "outputId": "7c4947d4-335a-4b48-f3fe-163fce7ceacf"
      },
      "execution_count": 13,
      "outputs": [
        {
          "output_type": "stream",
          "name": "stdout",
          "text": [
            "測\n",
            "試\n",
            "迴圈結束\n",
            "迴圈執行了 3 次\n"
          ]
        }
      ]
    },
    {
      "cell_type": "code",
      "source": [
        "for a in range(1,9):\n",
        "  for b in range(1,10):\n",
        "    c = (a+1) * b\n",
        "    print(a+1,\"*\",b,\"=\",c)"
      ],
      "metadata": {
        "colab": {
          "base_uri": "https://localhost:8080/"
        },
        "id": "4C18J1K5sH6b",
        "outputId": "bc468394-2c2d-43a3-8074-02958401caff"
      },
      "execution_count": 15,
      "outputs": [
        {
          "output_type": "stream",
          "name": "stdout",
          "text": [
            "2 * 1 = 2\n",
            "2 * 2 = 4\n",
            "2 * 3 = 6\n",
            "2 * 4 = 8\n",
            "2 * 5 = 10\n",
            "2 * 6 = 12\n",
            "2 * 7 = 14\n",
            "2 * 8 = 16\n",
            "2 * 9 = 18\n",
            "3 * 1 = 3\n",
            "3 * 2 = 6\n",
            "3 * 3 = 9\n",
            "3 * 4 = 12\n",
            "3 * 5 = 15\n",
            "3 * 6 = 18\n",
            "3 * 7 = 21\n",
            "3 * 8 = 24\n",
            "3 * 9 = 27\n",
            "4 * 1 = 4\n",
            "4 * 2 = 8\n",
            "4 * 3 = 12\n",
            "4 * 4 = 16\n",
            "4 * 5 = 20\n",
            "4 * 6 = 24\n",
            "4 * 7 = 28\n",
            "4 * 8 = 32\n",
            "4 * 9 = 36\n",
            "5 * 1 = 5\n",
            "5 * 2 = 10\n",
            "5 * 3 = 15\n",
            "5 * 4 = 20\n",
            "5 * 5 = 25\n",
            "5 * 6 = 30\n",
            "5 * 7 = 35\n",
            "5 * 8 = 40\n",
            "5 * 9 = 45\n",
            "6 * 1 = 6\n",
            "6 * 2 = 12\n",
            "6 * 3 = 18\n",
            "6 * 4 = 24\n",
            "6 * 5 = 30\n",
            "6 * 6 = 36\n",
            "6 * 7 = 42\n",
            "6 * 8 = 48\n",
            "6 * 9 = 54\n",
            "7 * 1 = 7\n",
            "7 * 2 = 14\n",
            "7 * 3 = 21\n",
            "7 * 4 = 28\n",
            "7 * 5 = 35\n",
            "7 * 6 = 42\n",
            "7 * 7 = 49\n",
            "7 * 8 = 56\n",
            "7 * 9 = 63\n",
            "8 * 1 = 8\n",
            "8 * 2 = 16\n",
            "8 * 3 = 24\n",
            "8 * 4 = 32\n",
            "8 * 5 = 40\n",
            "8 * 6 = 48\n",
            "8 * 7 = 56\n",
            "8 * 8 = 64\n",
            "8 * 9 = 72\n",
            "9 * 1 = 9\n",
            "9 * 2 = 18\n",
            "9 * 3 = 27\n",
            "9 * 4 = 36\n",
            "9 * 5 = 45\n",
            "9 * 6 = 54\n",
            "9 * 7 = 63\n",
            "9 * 8 = 72\n",
            "9 * 9 = 81\n"
          ]
        }
      ]
    },
    {
      "cell_type": "code",
      "source": [
        "a = 0\n",
        "b = 0\n",
        "c = 0\n",
        "a = int(input(\"請輸入a的值：\"))\n",
        "b = int(input(\"請輸入b的值：\"))\n",
        "if a > b :\n",
        "  c = a\n",
        "else:\n",
        "  c = b\n",
        "d = (a+1)*(b+1)\n",
        "for e in range(c,d):\n",
        "  if e % a == 0 and e % b == 0:\n",
        "    print(a,\"和\",b,\"的最小公倍數=\",e)\n",
        "    break"
      ],
      "metadata": {
        "colab": {
          "base_uri": "https://localhost:8080/"
        },
        "id": "XN0j4y4ut8LB",
        "outputId": "d537a1fd-b646-4b4a-9e6a-4f78d02fadd0"
      },
      "execution_count": 18,
      "outputs": [
        {
          "output_type": "stream",
          "name": "stdout",
          "text": [
            "請輸入a的值：9\n",
            "請輸入b的值：15\n",
            "9 和 15 的最小公倍數= 45\n"
          ]
        }
      ]
    },
    {
      "cell_type": "code",
      "source": [
        "f = 0\n",
        "f = int(input(\"請輸入正整數：\"))\n",
        "for g in range(1,f):\n",
        "  if g % 5 != 0:\n",
        "    print(g)"
      ],
      "metadata": {
        "colab": {
          "base_uri": "https://localhost:8080/"
        },
        "id": "Lt6FMTcpv2Wp",
        "outputId": "3c0425e2-29c2-44cd-a9ad-245fe9ca755e"
      },
      "execution_count": 21,
      "outputs": [
        {
          "output_type": "stream",
          "name": "stdout",
          "text": [
            "請輸入正整數：21\n",
            "1\n",
            "2\n",
            "3\n",
            "4\n",
            "6\n",
            "7\n",
            "8\n",
            "9\n",
            "11\n",
            "12\n",
            "13\n",
            "14\n",
            "16\n",
            "17\n",
            "18\n",
            "19\n"
          ]
        }
      ]
    },
    {
      "cell_type": "code",
      "source": [
        ""
      ],
      "metadata": {
        "id": "wV8sGS5rzMeo"
      },
      "execution_count": null,
      "outputs": []
    }
  ]
}