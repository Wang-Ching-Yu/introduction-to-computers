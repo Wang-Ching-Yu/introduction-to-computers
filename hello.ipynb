{
  "nbformat": 4,
  "nbformat_minor": 0,
  "metadata": {
    "colab": {
      "name": "hello.ipynb",
      "provenance": [],
      "authorship_tag": "ABX9TyMSqgnz+qJTN658lQt9VYB0",
      "include_colab_link": true
    },
    "kernelspec": {
      "name": "python3",
      "display_name": "Python 3"
    },
    "language_info": {
      "name": "python"
    }
  },
  "cells": [
    {
      "cell_type": "markdown",
      "metadata": {
        "id": "view-in-github",
        "colab_type": "text"
      },
      "source": [
        "<a href=\"https://colab.research.google.com/github/Wang-Ching-Yu/introduction-to-computers/blob/main/hello.ipynb\" target=\"_parent\"><img src=\"https://colab.research.google.com/assets/colab-badge.svg\" alt=\"Open In Colab\"/></a>"
      ]
    },
    {
      "cell_type": "code",
      "execution_count": 3,
      "metadata": {
        "colab": {
          "base_uri": "https://localhost:8080/"
        },
        "id": "qk7w_HV25CMv",
        "outputId": "07663f07-d19a-4529-cfe1-78adcb2b73e0"
      },
      "outputs": [
        {
          "output_type": "stream",
          "name": "stdout",
          "text": [
            "HiHi\n"
          ]
        }
      ],
      "source": [
        "print(\"HiHi\")"
      ]
    },
    {
      "cell_type": "code",
      "source": [
        ""
      ],
      "metadata": {
        "id": "drtK6XEq5IAM"
      },
      "execution_count": null,
      "outputs": []
    }
  ]
}