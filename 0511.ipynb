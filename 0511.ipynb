{
  "nbformat": 4,
  "nbformat_minor": 0,
  "metadata": {
    "colab": {
      "name": "0511.ipynb",
      "provenance": [],
      "authorship_tag": "ABX9TyMb8IL8KWyx7/UnBeq83VFU",
      "include_colab_link": true
    },
    "kernelspec": {
      "name": "python3",
      "display_name": "Python 3"
    },
    "language_info": {
      "name": "python"
    }
  },
  "cells": [
    {
      "cell_type": "markdown",
      "metadata": {
        "id": "view-in-github",
        "colab_type": "text"
      },
      "source": [
        "<a href=\"https://colab.research.google.com/github/Wang-Ching-Yu/introduction-to-computers/blob/main/0511.ipynb\" target=\"_parent\"><img src=\"https://colab.research.google.com/assets/colab-badge.svg\" alt=\"Open In Colab\"/></a>"
      ]
    },
    {
      "cell_type": "code",
      "execution_count": 2,
      "metadata": {
        "colab": {
          "base_uri": "https://localhost:8080/"
        },
        "id": "5Gjhn7VMVxNl",
        "outputId": "880883fb-f1d1-4751-9303-5ccc2748d7ef"
      },
      "outputs": [
        {
          "output_type": "stream",
          "name": "stdout",
          "text": [
            "test\n"
          ]
        }
      ],
      "source": [
        "print(\"test\")"
      ]
    },
    {
      "cell_type": "code",
      "source": [
        "temp = float(input(\"請輸入你的體溫\"))\n",
        "if temp >= 37.5:\n",
        "    print(\"體溫過高！\")\n",
        "elif temp >= 37 and temp < 37.4:\n",
        "    print(\"體溫略高！\")\n",
        "elif temp >= 34 and temp < 36.9:\n",
        "    print(\"體溫正常！\")\n",
        "else:\n",
        "    print(\"體溫異常，請重新量測！\")"
      ],
      "metadata": {
        "colab": {
          "base_uri": "https://localhost:8080/"
        },
        "id": "16r60YWEWLdA",
        "outputId": "5cae058b-c5bf-4f04-9075-feb5cf7d968a"
      },
      "execution_count": 9,
      "outputs": [
        {
          "output_type": "stream",
          "name": "stdout",
          "text": [
            "請輸入你的體溫37.5\n",
            "體溫過高！\n"
          ]
        }
      ]
    },
    {
      "cell_type": "code",
      "source": [
        "money = int(input(\"請輸入購物金額：\"))\n",
        "if (money >= 10000):\n",
        "  if (money >= 100000):\n",
        "    print(\"八折\", money * 0.8, end = \"元\\n\")\n",
        "  elif (money >= 50000):\n",
        "    print(\"八五折\", money * 0.85, end = \"元\\n\")\n",
        "  elif (money >= 30000):\n",
        "    print(\"九折\", money * 0.9, end = \"元\\n\")\n",
        "  else:\n",
        "    print(\"九五折\", money * 0.95, end = \"元\\n\")\n",
        "else:\n",
        "  print(\"沒打折\", money, end = \"元\\n\")"
      ],
      "metadata": {
        "colab": {
          "base_uri": "https://localhost:8080/"
        },
        "id": "P9ubkdIRX1Qv",
        "outputId": "3b26bf76-1a03-4e02-cf98-0c0b878efab9"
      },
      "execution_count": 16,
      "outputs": [
        {
          "output_type": "stream",
          "name": "stdout",
          "text": [
            "請輸入購物金額：10000\n",
            "九五折 9500.0元\n"
          ]
        }
      ]
    },
    {
      "cell_type": "code",
      "source": [
        "month = int(input(\"請輸入月份：\"))\n",
        "if month >=1 and month <=12:\n",
        "  if month >=3 and month <=5:\n",
        "    print(month, \"月是春天\", sep = \"\", end = \"！\")\n",
        "  elif month >=6 and month <=8:\n",
        "    print(month, \"月是夏天\", sep = \"\", end = \"！\")\n",
        "  elif month >=9 and month <=11:\n",
        "   print(month, \"月是秋天\", sep = \"\", end = \"！\")\n",
        "  else:\n",
        "   print(month, \"月是冬天\", sep = \"\", end = \"！\")\n",
        "else:\n",
        "  print(\"月份不在範圍內！\")"
      ],
      "metadata": {
        "colab": {
          "base_uri": "https://localhost:8080/"
        },
        "id": "3dJ6J3JcZhua",
        "outputId": "0e35d2f0-e3f0-4700-9d22-134010876f49"
      },
      "execution_count": 27,
      "outputs": [
        {
          "output_type": "stream",
          "name": "stdout",
          "text": [
            "請輸入月份：1\n",
            "1月是冬天！"
          ]
        }
      ]
    },
    {
      "cell_type": "code",
      "source": [
        "income = int(input(\"請輸入今年收入淨額：\"))\n",
        "if income >= 2000000:\n",
        "  print(\"付稅金額：\", income * 0.3, end = \"元\")\n",
        "elif income >= 1000000 and income < 2000000:\n",
        "  print(\"付稅金額：\", income * 0.21, end = \"元\")\n",
        "elif income >= 600000 and income < 1000000:\n",
        "  print(\"付稅金額：\", income * 0.13, end = \"元\")\n",
        "elif income >= 300000 and income < 600000:\n",
        "  print(\"付稅金額：\", income * 0.06, end = \"元\")\n",
        "else:\n",
        "  print(\"付稅金額：\", income * 0, end = \"元\")"
      ],
      "metadata": {
        "colab": {
          "base_uri": "https://localhost:8080/"
        },
        "id": "SubVdnACb_qv",
        "outputId": "ee819b90-1456-4cbc-a64f-8413f099ac20"
      },
      "execution_count": 38,
      "outputs": [
        {
          "output_type": "stream",
          "name": "stdout",
          "text": [
            "請輸入今年收入淨額：2000000\n",
            "付稅金額： 600000.0元"
          ]
        }
      ]
    },
    {
      "cell_type": "code",
      "source": [
        "grade = int(input(\"請輸入成績\"))\n",
        "if grade >= 1 and grade <= 100:\n",
        "  if grade >= 90:\n",
        "    print(\"A\")\n",
        "  elif grade >= 80 and grade < 90:\n",
        "    print(\"B\")\n",
        "  elif grade >= 70 and grade < 80:\n",
        "    print(\"C\")\n",
        "  elif grade >= 60 and grade < 70:\n",
        "    print(\"D\")\n",
        "  else:\n",
        "    print(\"E\")"
      ],
      "metadata": {
        "colab": {
          "base_uri": "https://localhost:8080/"
        },
        "id": "q3cBqgbgeqOd",
        "outputId": "16d6ba29-5bea-44eb-9ea3-f2e3570b6907"
      },
      "execution_count": 43,
      "outputs": [
        {
          "output_type": "stream",
          "name": "stdout",
          "text": [
            "請輸入成績50\n",
            "E\n"
          ]
        }
      ]
    },
    {
      "cell_type": "code",
      "source": [
        ""
      ],
      "metadata": {
        "id": "Ma4CL6kugGH7"
      },
      "execution_count": 41,
      "outputs": []
    }
  ]
}